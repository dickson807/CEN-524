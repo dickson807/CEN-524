{
 "cells": [
  {
   "cell_type": "code",
   "execution_count": 1,
   "id": "47bc4c97-5268-4161-b848-874263e8d2f5",
   "metadata": {},
   "outputs": [
    {
     "name": "stdout",
     "output_type": "stream",
     "text": [
      "14.603950049336703\n",
      "0.22734376052507407\n",
      "0.16842040015527598\n",
      "0.14496078180634608\n",
      "0.15239308002108304\n",
      "0.3068819774922209\n",
      "1.2\n",
      "0.9\n",
      "0.75\n",
      "0.8\n",
      "1.5\n",
      "0.5370495669980352\n",
      "0.4218990052500079\n",
      "0.35835739835078595\n",
      "0.3799489622552249\n",
      "0.6351489523872873\n"
     ]
    }
   ],
   "source": [
    "import math\n",
    "n_weight = [1.2, 0.9, 0.75, 0.8, 1.5]\n",
    "sum = math.exp(1.2)+math.exp(0.9)+math.exp(0.75)+math.exp(0.8)+math.exp(1.5)\n",
    "print(sum)\n",
    "\n",
    "def softmax(weight):\n",
    "    return math.exp(weight)/sum\n",
    "    \n",
    "softmax1 = softmax(1.2)\n",
    "print(softmax1)\n",
    "\n",
    "softmax2 = softmax(0.9)\n",
    "print(softmax2)\n",
    "\n",
    "softmax3 = softmax(0.75)\n",
    "print(softmax3)\n",
    "\n",
    "softmax4 = softmax(0.8)\n",
    "print(softmax4)\n",
    "\n",
    "softmax5 = softmax(1.5)\n",
    "print(softmax5)\n",
    "def relu(weight):\n",
    "    if weight > 0:\n",
    "        return weight\n",
    "    else:\n",
    "        return 0\n",
    "\n",
    "relu1 = relu(1.2)\n",
    "relu2 = relu(0.9)\n",
    "relu3 = relu(0.75)\n",
    "relu4 = relu(0.8)\n",
    "relu5 = relu(1.5)\n",
    "\n",
    "print(relu1)\n",
    "print(relu2)\n",
    "print(relu3)\n",
    "print(relu4)\n",
    "print(relu5)\n",
    "def bi_sigmoid(weight):\n",
    "    return ( 1 - math.exp( -weight ) ) / ( 1 + math.exp( -weight ) )\n",
    "\n",
    "bs1 = bi_sigmoid(1.2)\n",
    "bs2 = bi_sigmoid(0.9)\n",
    "bs3 = bi_sigmoid(0.75)\n",
    "bs4 = bi_sigmoid(0.8)\n",
    "bs5 = bi_sigmoid(1.5)\n",
    "\n",
    "print(bs1)\n",
    "print(bs2)\n",
    "print(bs3)\n",
    "print(bs4)\n",
    "print(bs5)"
   ]
  },
  {
   "cell_type": "code",
   "execution_count": null,
   "id": "553cca10-0cd9-42fc-8818-4c7d1a2b128b",
   "metadata": {},
   "outputs": [],
   "source": []
  }
 ],
 "metadata": {
  "kernelspec": {
   "display_name": "Python 3 (ipykernel)",
   "language": "python",
   "name": "python3"
  },
  "language_info": {
   "codemirror_mode": {
    "name": "ipython",
    "version": 3
   },
   "file_extension": ".py",
   "mimetype": "text/x-python",
   "name": "python",
   "nbconvert_exporter": "python",
   "pygments_lexer": "ipython3",
   "version": "3.11.7"
  }
 },
 "nbformat": 4,
 "nbformat_minor": 5
}
